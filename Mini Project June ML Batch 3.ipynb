#!/usr/bin/env python
# coding: utf-8

# In[2]:


import pandas as pd
import matplotlib.pyplot as plt
import seaborn as sb
import numpy as np


# In[6]:


movies=pd.read_csv('/Users/shrutayyyy_/Desktop/movies1.csv')


# In[7]:


movies


# In[46]:


movies=movies[['original_title',
       'cast', 'director',
       'runtime', 'genres', 'production_companies', 'release_year', 'budget', 'revenue']]


# In[47]:


movies.info()


# In[48]:


movies = movies.dropna()


# In[49]:


movies.info()


# In[50]:


movies


# In[51]:


movies.mean(axis=0)


# In[64]:


movies2=movies[movies['revenue']>0]


# In[65]:


movies3=movies2[movies2['budget']>0]


# In[66]:


movies3


# In[67]:


movies3.sort_values('revenue', ascending = False)


# In[68]:


movies3.sort_values('budget', ascending = False)


# In[69]:


movies3.sort_values('revenue', ascending = True)


# In[70]:


movies3.sort_values('budget', ascending = True)


# In[71]:


movies4=movies3[movies3['release_year']==2006]


# In[72]:


movies4.mean(axis=0)


# In[120]:


movies_2000=movies3[movies3['release_year']>=2000] 


# In[126]:


movies_reqd=movies_2000[movies_2000['release_year']<=2005]
movies_reqd


# In[125]:


n1=[]
n2=[]
for i in range(movies_reqd.shape[0]):
    n1 = movies_reqd['original_title'].values[i].split(' ')
    n2.append(len(n1))
    
n2


# In[127]:


sum=0
for i in n2:
    sum=sum+i
avg=sum/746
avg
    


# In[ ]:




